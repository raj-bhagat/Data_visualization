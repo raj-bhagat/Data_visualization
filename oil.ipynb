{
 "cells": [
  {
   "cell_type": "code",
   "execution_count": 1,
   "metadata": {
    "collapsed": true
   },
   "outputs": [],
   "source": [
    "import pandas as pd \n",
    "from pandas import DataFrame\n",
    "import numpy as np"
   ]
  },
  {
   "cell_type": "code",
   "execution_count": 6,
   "metadata": {},
   "outputs": [
    {
     "data": {
      "text/html": [
       "<div>\n",
       "<style>\n",
       "    .dataframe thead tr:only-child th {\n",
       "        text-align: right;\n",
       "    }\n",
       "\n",
       "    .dataframe thead th {\n",
       "        text-align: left;\n",
       "    }\n",
       "\n",
       "    .dataframe tbody tr th {\n",
       "        vertical-align: top;\n",
       "    }\n",
       "</style>\n",
       "<table border=\"1\" class=\"dataframe\">\n",
       "  <thead>\n",
       "    <tr style=\"text-align: right;\">\n",
       "      <th></th>\n",
       "      <th>2010</th>\n",
       "      <th>2011</th>\n",
       "      <th>2012</th>\n",
       "      <th>2013</th>\n",
       "      <th>2014</th>\n",
       "      <th>2015</th>\n",
       "      <th>2016</th>\n",
       "      <th>tot_14_16</th>\n",
       "    </tr>\n",
       "  </thead>\n",
       "  <tbody>\n",
       "    <tr>\n",
       "      <th>count</th>\n",
       "      <td>54.000000</td>\n",
       "      <td>54.000000</td>\n",
       "      <td>54.000000</td>\n",
       "      <td>54.000000</td>\n",
       "      <td>54.00000</td>\n",
       "      <td>54.000000</td>\n",
       "      <td>54.000000</td>\n",
       "      <td>54.000000</td>\n",
       "    </tr>\n",
       "    <tr>\n",
       "      <th>mean</th>\n",
       "      <td>30.415278</td>\n",
       "      <td>31.134444</td>\n",
       "      <td>31.381241</td>\n",
       "      <td>31.510370</td>\n",
       "      <td>31.60263</td>\n",
       "      <td>31.323222</td>\n",
       "      <td>31.616111</td>\n",
       "      <td>94.541963</td>\n",
       "    </tr>\n",
       "    <tr>\n",
       "      <th>std</th>\n",
       "      <td>63.463283</td>\n",
       "      <td>64.525787</td>\n",
       "      <td>64.520943</td>\n",
       "      <td>64.692159</td>\n",
       "      <td>64.84166</td>\n",
       "      <td>64.849111</td>\n",
       "      <td>65.391488</td>\n",
       "      <td>195.062365</td>\n",
       "    </tr>\n",
       "    <tr>\n",
       "      <th>min</th>\n",
       "      <td>0.000000</td>\n",
       "      <td>0.000000</td>\n",
       "      <td>0.279000</td>\n",
       "      <td>0.261000</td>\n",
       "      <td>0.23900</td>\n",
       "      <td>0.217000</td>\n",
       "      <td>0.194000</td>\n",
       "      <td>0.650000</td>\n",
       "    </tr>\n",
       "    <tr>\n",
       "      <th>25%</th>\n",
       "      <td>1.305000</td>\n",
       "      <td>1.279500</td>\n",
       "      <td>1.500000</td>\n",
       "      <td>1.525000</td>\n",
       "      <td>1.43250</td>\n",
       "      <td>1.342500</td>\n",
       "      <td>1.324500</td>\n",
       "      <td>4.004250</td>\n",
       "    </tr>\n",
       "    <tr>\n",
       "      <th>50%</th>\n",
       "      <td>4.030500</td>\n",
       "      <td>3.807000</td>\n",
       "      <td>3.712500</td>\n",
       "      <td>3.721500</td>\n",
       "      <td>3.65300</td>\n",
       "      <td>3.601500</td>\n",
       "      <td>3.550000</td>\n",
       "      <td>10.713500</td>\n",
       "    </tr>\n",
       "    <tr>\n",
       "      <th>75%</th>\n",
       "      <td>20.988500</td>\n",
       "      <td>21.574250</td>\n",
       "      <td>22.135250</td>\n",
       "      <td>22.424750</td>\n",
       "      <td>22.90250</td>\n",
       "      <td>22.183000</td>\n",
       "      <td>22.091500</td>\n",
       "      <td>67.599250</td>\n",
       "    </tr>\n",
       "    <tr>\n",
       "      <th>max</th>\n",
       "      <td>296.501000</td>\n",
       "      <td>297.571000</td>\n",
       "      <td>297.735000</td>\n",
       "      <td>298.350000</td>\n",
       "      <td>299.95300</td>\n",
       "      <td>300.878000</td>\n",
       "      <td>300.978000</td>\n",
       "      <td>901.809000</td>\n",
       "    </tr>\n",
       "  </tbody>\n",
       "</table>\n",
       "</div>"
      ],
      "text/plain": [
       "             2010        2011        2012        2013       2014        2015  \\\n",
       "count   54.000000   54.000000   54.000000   54.000000   54.00000   54.000000   \n",
       "mean    30.415278   31.134444   31.381241   31.510370   31.60263   31.323222   \n",
       "std     63.463283   64.525787   64.520943   64.692159   64.84166   64.849111   \n",
       "min      0.000000    0.000000    0.279000    0.261000    0.23900    0.217000   \n",
       "25%      1.305000    1.279500    1.500000    1.525000    1.43250    1.342500   \n",
       "50%      4.030500    3.807000    3.712500    3.721500    3.65300    3.601500   \n",
       "75%     20.988500   21.574250   22.135250   22.424750   22.90250   22.183000   \n",
       "max    296.501000  297.571000  297.735000  298.350000  299.95300  300.878000   \n",
       "\n",
       "             2016   tot_14_16  \n",
       "count   54.000000   54.000000  \n",
       "mean    31.616111   94.541963  \n",
       "std     65.391488  195.062365  \n",
       "min      0.194000    0.650000  \n",
       "25%      1.324500    4.004250  \n",
       "50%      3.550000   10.713500  \n",
       "75%     22.091500   67.599250  \n",
       "max    300.978000  901.809000  "
      ]
     },
     "execution_count": 6,
     "metadata": {},
     "output_type": "execute_result"
    }
   ],
   "source": [
    "df = pd.read_csv('oil_reserves.csv')\n",
    "df=df.applymap(lambda x: x.strip() if isinstance(x,str) else x)\n",
    "df=df.fillna(0)\n",
    "add=df['2014']+df['2015']+df['2016']\n",
    "df['tot_14_16']=add\n",
    "df.describe()"
   ]
  },
  {
   "cell_type": "code",
   "execution_count": 7,
   "metadata": {},
   "outputs": [
    {
     "name": "stdout",
     "output_type": "stream",
     "text": [
      "9    S. & Cent. America\n",
      "Name: Region, dtype: object\n"
     ]
    }
   ],
   "source": [
    "#1\n",
    "print(df[df['tot_14_16']==df['tot_14_16'].max()]['Region'])"
   ]
  },
  {
   "cell_type": "code",
   "execution_count": 25,
   "metadata": {},
   "outputs": [
    {
     "name": "stdout",
     "output_type": "stream",
     "text": [
      "1    Canada\n",
      "Name: Country/ Region, dtype: object\n",
      "9    Venezuela\n",
      "Name: Country/ Region, dtype: object\n",
      "17    Russian Federation\n",
      "Name: Country/ Region, dtype: object\n",
      "27    Saudi Arabia\n",
      "Name: Country/ Region, dtype: object\n",
      "39    Libya\n",
      "Name: Country/ Region, dtype: object\n",
      "47    China\n",
      "Name: Country/ Region, dtype: object\n"
     ]
    }
   ],
   "source": [
    "#3\n",
    "reg1=df[df['Region']== 'North America']\n",
    "reg2=df[df['Region']== 'S. & Cent. America']\n",
    "reg3=df[df['Region']== 'Europe & Eurasia']\n",
    "reg4=df[df['Region']== 'Middle East']\n",
    "reg5=df[df['Region']== 'Africa']\n",
    "reg6=df[df['Region']== 'Asia Pacific']\n",
    "print(reg1[reg1['tot_14_16']==reg1['tot_14_16'].max()]['Country/ Region'])\n",
    "print(reg2[reg2['tot_14_16']==reg2['tot_14_16'].max()]['Country/ Region'])\n",
    "print(reg3[reg3['tot_14_16']==reg3['tot_14_16'].max()]['Country/ Region'])\n",
    "print(reg4[reg4['tot_14_16']==reg4['tot_14_16'].max()]['Country/ Region'])\n",
    "print(reg5[reg5['tot_14_16']==reg5['tot_14_16'].max()]['Country/ Region'])\n",
    "print(reg6[reg6['tot_14_16']==reg6['tot_14_16'].max()]['Country/ Region'])\n"
   ]
  },
  {
   "cell_type": "code",
   "execution_count": 29,
   "metadata": {},
   "outputs": [],
   "source": [
    "tot_reg1=reg1['tot_14_16'].sum()\n",
    "tot_reg2=reg2['tot_14_16'].sum()\n",
    "tot_reg3=reg3['tot_14_16'].sum()\n",
    "tot_reg4=reg4['tot_14_16'].sum()\n",
    "tot_reg5=reg5['tot_14_16'].sum()\n",
    "tot_reg6=reg6['tot_14_16'].sum()\n",
    "tot="
   ]
  },
  {
   "cell_type": "code",
   "execution_count": 44,
   "metadata": {},
   "outputs": [
    {
     "data": {
      "image/png": "[encoded data removed]",
      "text/plain": [
       "<matplotlib.figure.Figure at 0x7f08b195bf98>"
      ]
     },
     "metadata": {},
     "output_type": "display_data"
    }
   ],
   "source": [
    "#4\n",
    "import matplotlib.pyplot as plt\n",
    " \n",
    "labels = df['Region'].unique()\n",
    "sizes = [tot_reg1, tot_reg2, tot_reg3, tot_reg4, tot_reg5, tot_reg6]\n",
    "colors = ['yellowgreen', 'gold', 'lightskyblue', 'lightcoral', 'red', 'silver']\n",
    "explode = (0, 0, 0, 0.1, 0, 0)\n",
    "patches, texts = plt.pie(sizes, explode, colors=colors, shadow=True, startangle=30)\n",
    "plt.legend(patches, labels, loc=\"best\")\n",
    "plt.axis('equal')\n",
    "plt.tight_layout()\n",
    "plt.show()"
   ]
  },
  {
   "cell_type": "code",
   "execution_count": 48,
   "metadata": {},
   "outputs": [
    {
     "data": {
      "image/png": "[encoded data removed]",
      "text/plain": [
       "<matplotlib.figure.Figure at 0x7f08bf327860>"
      ]
     },
     "metadata": {},
     "output_type": "display_data"
    }
   ],
   "source": [
    "#2\n",
    "year = ['2010' ,'2011', '2012', '2013', '2014', '2015', '2016']\n",
    "x_pos = np.arange(len(year))\n",
    "amount = [df.iloc[49, 2], df.iloc[49, 3], df.iloc[49, 4], df.iloc[49, 5], df.iloc[49, 6], df.iloc[49, 7], df.iloc[49, 8]]\n",
    "\n",
    "plt.bar(x_pos, amount)\n",
    "plt.xticks(x_pos, year)\n",
    "plt.xlabel('YEAR')\n",
    "plt.ylabel('Amount')\n",
    "plt.title('Oil production')\n",
    "\n",
    "plt.show()"
   ]
  },
  {
   "cell_type": "code",
   "execution_count": null,
   "metadata": {
    "collapsed": true
   },
   "outputs": [],
   "source": []
  }
 ],
 "metadata": {
  "kernelspec": {
   "display_name": "Python 3",
   "language": "python",
   "name": "python3"
  },
  "language_info": {
   "codemirror_mode": {
    "name": "ipython",
    "version": 3
   },
   "file_extension": ".py",
   "mimetype": "text/x-python",
   "name": "python",
   "nbconvert_exporter": "python",
   "pygments_lexer": "ipython3",
   "version": "3.6.3"
  }
 },
 "nbformat": 4,
 "nbformat_minor": 2
}
