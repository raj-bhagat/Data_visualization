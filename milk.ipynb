{
 "cells": [
  {
   "cell_type": "code",
   "execution_count": 27,
   "metadata": {
    "collapsed": true
   },
   "outputs": [],
   "source": [
    "import pandas as pd \n",
    "from pandas import DataFrame\n",
    "import numpy as np"
   ]
  },
  {
   "cell_type": "code",
   "execution_count": 55,
   "metadata": {},
   "outputs": [
    {
     "name": "stdout",
     "output_type": "stream",
     "text": [
      "Uttar Pradesh\n"
     ]
    }
   ],
   "source": [
    "#1\n",
    "df = pd.read_csv('milk_production.csv')\n",
    "df=df.applymap(lambda x: x.strip() if isinstance(x,str) else x)\n",
    "df=df.fillna(0)\n",
    "data=df[df['Category']=='State']\n",
    "d=data['Cow Milk-2013-14'] + data['Boffalo Milk-2013-14'] +data['Goat Milk-2013-14']\n",
    "print(data.iloc[np.where(d==np.max(d))[0][0]]['State/ UT Name'])"
   ]
  },
  {
   "cell_type": "code",
   "execution_count": 56,
   "metadata": {},
   "outputs": [
    {
     "name": "stdout",
     "output_type": "stream",
     "text": [
      "Uttar Pradesh\n",
      "Rajasthan\n",
      "Andhra Pradesh\n",
      "Gujarat\n",
      "Gujarat\n"
     ]
    }
   ],
   "source": [
    "#2\n",
    "for i in range(5):\n",
    "    print(data.iloc[np.where(d==np.max(d))[0][0]]['State/ UT Name'])\n",
    "    location=np.where(d==np.max(d))[0]\n",
    "    data= data.drop(location)\n",
    "    d=d.drop(location)"
   ]
  },
  {
   "cell_type": "code",
   "execution_count": null,
   "metadata": {
    "collapsed": true
   },
   "outputs": [],
   "source": []
  }
 ],
 "metadata": {
  "kernelspec": {
   "display_name": "Python 3",
   "language": "python",
   "name": "python3"
  },
  "language_info": {
   "codemirror_mode": {
    "name": "ipython",
    "version": 3
   },
   "file_extension": ".py",
   "mimetype": "text/x-python",
   "name": "python",
   "nbconvert_exporter": "python",
   "pygments_lexer": "ipython3",
   "version": "3.6.3"
  }
 },
 "nbformat": 4,
 "nbformat_minor": 2
}
