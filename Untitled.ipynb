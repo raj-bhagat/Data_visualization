{
 "cells": [
  {
   "cell_type": "code",
   "execution_count": 77,
   "metadata": {
    "collapsed": true
   },
   "outputs": [],
   "source": [
    "import numpy as np\n",
    "from pandas import DataFrame , Series\n",
    "import pandas as pd"
   ]
  },
  {
   "cell_type": "code",
   "execution_count": 78,
   "metadata": {},
   "outputs": [
    {
     "name": "stdout",
     "output_type": "stream",
     "text": [
      "90    1991\n",
      "Name: YEAR, dtype: int64\n"
     ]
    }
   ],
   "source": [
    "df=pd.read_csv('south_pen-India_rainfall_act_dep_1901_2016.csv')\n",
    "df=df.applymap(lambda x: x.strip() if isinstance(x,str) else x)\n",
    "max_rain_jun=df[df['Actual Rainfall: JUN']==df['Actual Rainfall: JUN'].max()]['YEAR']\n",
    "print(max_rain_jun)"
   ]
  },
  {
   "cell_type": "code",
   "execution_count": 93,
   "metadata": {},
   "outputs": [
    {
     "name": "stdout",
     "output_type": "stream",
     "text": [
      "1918    434.0\n",
      "2002    506.7\n",
      "1952    528.4\n",
      "1987    541.8\n",
      "1905    560.7\n",
      "dtype: float64\n"
     ]
    }
   ],
   "source": [
    "actual_rain=df.iloc[:,1:5]\n",
    "total_rain=list(actual_rain.sum(axis=1))\n",
    "years=list(df['YEAR'])\n",
    "dry_list=Series(total_rain, index=years)\n",
    "dry_years_south=dry_list.sort_values(ascending=True)\n",
    "print(dry_years_south.head())"
   ]
  },
  {
   "cell_type": "code",
   "execution_count": 95,
   "metadata": {},
   "outputs": [
    {
     "name": "stdout",
     "output_type": "stream",
     "text": [
      "104    2005\n",
      "112    2013\n",
      "91     1992\n",
      "108    2009\n",
      "71     1972\n",
      "Name: YEAR, dtype: int64\n"
     ]
    }
   ],
   "source": [
    "df2=pd.read_csv('ne-India_rainfall_act_dep_1901_2016.csv')\n",
    "df2=df2.applymap(lambda x: x.strip() if isinstance(x,str) else x)\n",
    "dry_years_ne=df2.sort_values('Actual Rainfall: JUN-SEPT', ascending=True)['YEAR']\n",
    "print(dry_years_ne.head())"
   ]
  },
  {
   "cell_type": "code",
   "execution_count": 64,
   "metadata": {},
   "outputs": [
    {
     "name": "stdout",
     "output_type": "stream",
     "text": [
      "17     1918\n",
      "78     1979\n",
      "86     1987\n",
      "108    2009\n",
      "64     1965\n",
      "Name: YEAR, dtype: int64\n"
     ]
    }
   ],
   "source": [
    "df3=pd.read_csv('nw-India_rainfall_act_dep_1901_2016.csv')\n",
    "dry_years_nw=df3.sort_values('Actual Rainfall: JUN-SEPT', ascending=True)['YEAR']\n",
    "print(dry_years_nw.head())"
   ]
  },
  {
   "cell_type": "code",
   "execution_count": 96,
   "metadata": {},
   "outputs": [
    {
     "name": "stdout",
     "output_type": "stream",
     "text": [
      "17    1918\n",
      "86    1987\n",
      "73    1974\n",
      "71    1972\n",
      "19    1920\n",
      "Name: YEAR, dtype: int64\n"
     ]
    }
   ],
   "source": [
    "df4=pd.read_csv('central-India_rainfall_act_dep_1901_2016.csv')\n",
    "df4=df4.applymap(lambda x: x.strip() if isinstance(x,str) else x)\n",
    "dry_years_cen=df4.sort_values('Actual Rainfall: JUN-SEPT', ascending=True)['YEAR']\n",
    "print(dry_years_cen.head())"
   ]
  },
  {
   "cell_type": "code",
   "execution_count": 103,
   "metadata": {},
   "outputs": [
    {
     "name": "stdout",
     "output_type": "stream",
     "text": [
      "Enter the region:north-west\n",
      "Enter the month:july\n",
      "13    1914\n",
      "Name: YEAR, dtype: int64\n"
     ]
    }
   ],
   "source": [
    "region=input('Enter the region:')\n",
    "month=input('Enter the month:')\n",
    "if(region=='south'):\n",
    "    if(month=='june'):\n",
    "        print(df[df['Actual Rainfall: JUN']==df['Actual Rainfall: JUN'].max()]['YEAR'])\n",
    "    elif(month=='july'):\n",
    "        print(df[df['Actual Rainfall: JUL']==df['Actual Rainfall: JUL'].max()]['YEAR'])\n",
    "    elif(month=='august'):\n",
    "        print(df[df['Actual Rainfall: AUG']==df['Actual Rainfall: AUG'].max()]['YEAR'])\n",
    "    elif(month=='september'):\n",
    "        print(df[df['Actual Rainfall: SEPT']==df['Actual Rainfall: SEPT'].max()]['YEAR'])\n",
    "    else:\n",
    "        print('wrong input')\n",
    "elif(region=='north-east'):\n",
    "    if(month=='june'):\n",
    "        print(df2[df2['Actual Rainfall: JUN']==df2['Actual Rainfall: JUN'].max()]['YEAR'])\n",
    "    elif(month=='july'):\n",
    "        print(df2[df2['Actual Rainfall: JUL']==df2['Actual Rainfall: JUL'].max()]['YEAR'])\n",
    "    elif(month=='august'):\n",
    "        print(df2[df2['Actual Rainfall: AUG']==df2['Actual Rainfall: AUG'].max()]['YEAR'])\n",
    "    elif(month=='september'):\n",
    "        print(df2[df2['Actual Rainfall: SEPT']==df2['Actual Rainfall: SEPT'].max()]['YEAR'])\n",
    "    else:\n",
    "        print('wrong input')\n",
    "\n",
    "elif(region=='north-west'):\n",
    "    if(month=='june'):\n",
    "        print(df3[df3['Actual Rainfall: JUN']==df3['Actual Rainfall: JUN'].max()]['YEAR'])\n",
    "    elif(month=='july'):\n",
    "        print(df3[df3['Actual Rainfall: JUL']==df3['Actual Rainfall: JUL'].max()]['YEAR'])\n",
    "    elif(month=='august'):\n",
    "        print(df3[df3['Actual Rainfall: AUG']==df3['Actual Rainfall: AUG'].max()]['YEAR'])\n",
    "    elif(month=='september'):\n",
    "        print(df3[df3['Actual Rainfall: SEPT']==df3['Actual Rainfall: SEPT'].max()]['YEAR'])\n",
    "    else:\n",
    "        print('wrong input')\n",
    "\n",
    "elif(region=='central'):\n",
    "    if(month=='june'):\n",
    "        print(df4[df4['Actual Rainfall: JUN']==df4['Actual Rainfall: JUN'].max()]['YEAR'])\n",
    "    elif(month=='july'):\n",
    "        print(df4[df4['Actual Rainfall: JUL']==df4['Actual Rainfall: JUL'].max()]['YEAR'])\n",
    "    elif(month=='august'):\n",
    "        print(df4[df4['Actual Rainfall: AUG']==df4['Actual Rainfall: AUG'].max()]['YEAR'])\n",
    "    elif(month=='september'):\n",
    "        print(df4[df4['Actual Rainfall: SEPT']==df4['Actual Rainfall: SEPT'].max()]['YEAR'])\n",
    "    else:\n",
    "        print('wrong input')\n",
    "else:\n",
    "    print('Wrong input')"
   ]
  },
  {
   "cell_type": "code",
   "execution_count": null,
   "metadata": {
    "collapsed": true
   },
   "outputs": [],
   "source": []
  }
 ],
 "metadata": {
  "kernelspec": {
   "display_name": "Python 3",
   "language": "python",
   "name": "python3"
  },
  "language_info": {
   "codemirror_mode": {
    "name": "ipython",
    "version": 3
   },
   "file_extension": ".py",
   "mimetype": "text/x-python",
   "name": "python",
   "nbconvert_exporter": "python",
   "pygments_lexer": "ipython3",
   "version": "3.6.3"
  }
 },
 "nbformat": 4,
 "nbformat_minor": 2
}
